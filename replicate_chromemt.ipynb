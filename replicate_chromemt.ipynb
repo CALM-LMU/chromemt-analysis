{
 "cells": [
  {
   "attachments": {},
   "cell_type": "markdown",
   "metadata": {},
   "source": [
    "# Replicate results from ChromEMT\n",
    "\n",
    "In this notebook, we try to reproduce the figures from Ou et al.\n"
   ]
  },
  {
   "cell_type": "code",
   "execution_count": null,
   "metadata": {},
   "outputs": [],
   "source": [
    "import numpy as np\n",
    "from skimage.io import imread\n",
    "from matplotlib import pyplot as plt\n",
    "from matplotlib.patches import Rectangle\n",
    "import seaborn as sns\n",
    "\n",
    "from chromemt_analysis import segment_like_paper, continuous_erosion_edt, linear_fit_to_residual_volume"
   ]
  },
  {
   "attachments": {},
   "cell_type": "markdown",
   "metadata": {},
   "source": [
    "\n",
    "## 1) load ChromEMT volume and extract patches like in paper"
   ]
  },
  {
   "cell_type": "code",
   "execution_count": null,
   "metadata": {},
   "outputs": [],
   "source": [
    "## Load ChromEMT volume from Fig. 4 (interphase)\n",
    "chromemt_img = imread('/Users/david/Desktop/chromemt_data/49801.tif')\n",
    "\n",
    "## Fig. 7 (mitotic chromosome)\n",
    "# chromemt_img = imread('/Users/david/Desktop/chromemt_data/49803.tif')\n",
    "\n",
    "chromemt_img.shape"
   ]
  },
  {
   "cell_type": "code",
   "execution_count": null,
   "metadata": {},
   "outputs": [],
   "source": [
    "## pixel and tile size (nm)\n",
    "pixel_size = 1.28\n",
    "tile_size_nm = 120.0\n",
    "\n",
    "## number of tiles to cut in zyx\n",
    "## for Fig. 4 (interphase)\n",
    "n_tiles = (1, 8, 8)\n",
    "\n",
    "## for Fig. 7 (mitotic)\n",
    "# n_tiles = (1, 6, 6)\n",
    "\n",
    "## tile size in pixel (NOTE: we round up here, paper leaves it unclear how the non-integer patches were cut)\n",
    "tile_size = int( np.ceil( tile_size_nm / pixel_size ))\n",
    "\n",
    "## where to start cutting tiles\n",
    "# NOTE: no information about z in paper (we assume central to mean middle planes), yx guessed according to Fig. 4\n",
    "tile_offsets = ((chromemt_img.shape[0] - tile_size) // 2 , 150, 50)\n",
    "\n",
    "## offset for Fig. 7\n",
    "# tile_offsets = ((chromemt_img.shape[0] - tile_size) // 2 , 310, 130)\n",
    "\n",
    "cut_starts = np.meshgrid(*(np.arange(tile_offsets_i, tile_offsets_i + n_tiles_i * tile_size, tile_size ) for tile_offsets_i, n_tiles_i in zip(tile_offsets, n_tiles)), indexing='ij')\n",
    "cut_starts = np.stack(cut_starts, -1)\n",
    "cut_starts = cut_starts.reshape((np.prod(n_tiles), -1))"
   ]
  },
  {
   "attachments": {},
   "cell_type": "markdown",
   "metadata": {},
   "source": [
    "### Check cut location\n",
    "\n",
    "Plot cuts for verification, as exact location is not given in paper"
   ]
  },
  {
   "cell_type": "code",
   "execution_count": null,
   "metadata": {},
   "outputs": [],
   "source": [
    "fig, ax = plt.subplots(figsize=(10,10))\n",
    "ax.imshow(chromemt_img[0], cmap='gray')\n",
    "\n",
    "for cut_start in cut_starts:\n",
    "    rec = Rectangle(cut_start[:0:-1], tile_size, tile_size, fill=None, color='red', lw=2)\n",
    "    ax.add_artist(rec)\n",
    "    ax.axis('off')\n",
    "\n",
    "fig.tight_layout()\n",
    "plt.rc('pdf', fonttype='42')\n",
    "# plt.savefig('/Users/david/Desktop/density-figures/chromemt-grid-interphase.pdf')\n",
    "# plt.savefig('/Users/david/Desktop/density-figures/chromemt-grid-mitosis.pdf')"
   ]
  },
  {
   "attachments": {},
   "cell_type": "markdown",
   "metadata": {},
   "source": [
    "## 2) Segment like paper and calculate CVC"
   ]
  },
  {
   "cell_type": "code",
   "execution_count": null,
   "metadata": {},
   "outputs": [],
   "source": [
    "patches = []\n",
    "masks = []\n",
    "cvcs = []\n",
    "\n",
    "import tqdm\n",
    "from concurrent.futures import ThreadPoolExecutor\n",
    "\n",
    "## to segment whole image first and then just cut masks, use cut_from_existing_seg instead of cut_and_seg\n",
    "# mask_whole = segment_like_paper(chromemt_img)\n",
    "# def cut_from_existing_seg(cut_start, mask_whole):\n",
    "#     patch = chromemt_img[tuple(slice(c, c+tile_size) for c in cut_start)]\n",
    "#     mask = mask_whole[tuple(slice(c, c+tile_size) for c in cut_start)]\n",
    "#     return patch, mask\n",
    "\n",
    "def cut_and_seg(cut_start):\n",
    "    patch = chromemt_img[tuple(slice(c, c+tile_size) for c in cut_start)]\n",
    "    mask = segment_like_paper(patch)\n",
    "    return patch, mask\n",
    "\n",
    "futures = []\n",
    "with ThreadPoolExecutor() as tpe:\n",
    "    for cut_start in cut_starts:\n",
    "        futures.append(tpe.submit(cut_and_seg, cut_start))\n",
    "        # futures.append(tpe.submit(cut_from_existing_seg, cut_start, mask_whole))\n",
    "\n",
    "    for f in tqdm.tqdm(futures):\n",
    "        patch, mask = f.result()\n",
    "        cvc = mask.sum() / mask.size\n",
    "        patches.append(patch)\n",
    "        masks.append(mask)\n",
    "        cvcs.append(cvc)"
   ]
  },
  {
   "attachments": {},
   "cell_type": "markdown",
   "metadata": {},
   "source": [
    "## 3) Plots like paper\n",
    "\n",
    "### 1: CVC for patches heatmap"
   ]
  },
  {
   "cell_type": "code",
   "execution_count": null,
   "metadata": {},
   "outputs": [],
   "source": [
    "# 'ABC...'\n",
    "alphabet = ''.join([chr(i) for i in range(ord('A'), ord('A')+26)])\n",
    "\n",
    "# CVC per tile plot, similar to paper\n",
    "sns.heatmap(np.reshape(cvcs, n_tiles).squeeze().round(2)*100, annot=True, cmap='rainbow', cbar=False, xticklabels=alphabet[:n_tiles[1]], yticklabels=range(1,n_tiles[1]+1), square=True)\n",
    "plt.title('Chromatin Volume Concentration (CVC)\\nper 120nm^3 tile');\n",
    "\n",
    "plt.rc('pdf', fonttype='42')\n",
    "# plt.savefig('/Users/david/Desktop/density-figures/chromemt-cvcs-interphase.pdf')\n",
    "# plt.savefig('/Users/david/Desktop/density-figures/chromemt-cvcs-mitosis.pdf')"
   ]
  },
  {
   "attachments": {},
   "cell_type": "markdown",
   "metadata": {},
   "source": [
    "### 2: chromatin diameter estimation via continuous erosion"
   ]
  },
  {
   "cell_type": "code",
   "execution_count": null,
   "metadata": {},
   "outputs": [],
   "source": [
    "index_str = 'D4'\n",
    "\n",
    "mask_grid = np.reshape(masks, n_tiles + (tile_size,)*3).squeeze()\n",
    "mask_cut = mask_grid[int(index_str[1])-1, alphabet.index(index_str[0])]\n",
    "\n",
    "erosion_radii = np.arange(0, 11)\n",
    "trace = continuous_erosion_edt(mask_cut, erosion_radii)\n",
    "\n",
    "d, model = linear_fit_to_residual_volume(trace, erosion_radii, 5)\n",
    "\n",
    "plt.figure(figsize=(5,4))\n",
    "plt.plot(erosion_radii, trace, '-x', label='residual volume')\n",
    "plt.plot(np.linspace(0, d / 2), model.predict(np.linspace(0, d / 2).reshape(-1,1)), '--', label=f'fit, esitmated diameter = {np.round(d*pixel_size, 1)} nm')\n",
    "plt.title(index_str + f' (CVC={np.round(mask_cut.sum() / mask_cut.size * 100)})')\n",
    "plt.ylabel('residual volume')\n",
    "plt.xlabel('erosion radius')\n",
    "plt.legend()\n",
    "\n",
    "plt.rc('pdf', fonttype='42')\n",
    "# plt.savefig('/Users/david/Desktop/density-figures/chromemt-diam-d4-interphase.pdf')\n",
    "# plt.savefig('/Users/david/Desktop/density-figures/chromemt-diam-a3-mitosis.pdf')"
   ]
  },
  {
   "attachments": {},
   "cell_type": "markdown",
   "metadata": {},
   "source": [
    "## For verification: Save single patches to segment with Fiji macro"
   ]
  },
  {
   "cell_type": "code",
   "execution_count": null,
   "metadata": {},
   "outputs": [],
   "source": [
    "from skimage.io import imsave\n",
    "\n",
    "tile_grid = np.reshape(patches, n_tiles + (tile_size,)*3).squeeze()\n",
    "\n",
    "index_str = 'E6'\n",
    "\n",
    "imsave(f'/Volumes/davidh-ssd//chromemt_data/fig4_patch_{index_str}.tif', \n",
    "       np.expand_dims(tile_grid[int(index_str[1])-1, alphabet.index(index_str[0])], 1), imagej=True)"
   ]
  },
  {
   "attachments": {},
   "cell_type": "markdown",
   "metadata": {},
   "source": [
    "Run ```fiji_segmentation.ijm``` on the saved patch, then read output again to validate:"
   ]
  },
  {
   "cell_type": "code",
   "execution_count": null,
   "metadata": {},
   "outputs": [],
   "source": [
    "from skimage.morphology import remove_small_objects\n",
    "\n",
    "mask = imread(f'/Volumes/davidh-ssd//chromemt_data/MASK_fig4_patch_{index_str}.tif')\n",
    "\n",
    "# we skip the final >500 check in Fiji, re-do here:\n",
    "mask = remove_small_objects(mask > 0, 500)\n",
    "\n",
    "# CVC:\n",
    "mask.sum() / mask.size"
   ]
  }
 ],
 "metadata": {
  "kernelspec": {
   "display_name": "Python 3.8.8 ('anaconda-py38')",
   "language": "python",
   "name": "python3"
  },
  "language_info": {
   "codemirror_mode": {
    "name": "ipython",
    "version": 3
   },
   "file_extension": ".py",
   "mimetype": "text/x-python",
   "name": "python",
   "nbconvert_exporter": "python",
   "pygments_lexer": "ipython3",
   "version": "3.9.15"
  },
  "orig_nbformat": 4,
  "vscode": {
   "interpreter": {
    "hash": "1981902931af29edafb104b3ce08f32baefcfc2334c19d52b3f94ceb5c8ca14b"
   }
  }
 },
 "nbformat": 4,
 "nbformat_minor": 2
}
