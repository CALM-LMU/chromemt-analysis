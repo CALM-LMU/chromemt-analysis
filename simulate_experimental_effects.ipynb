{
 "cells": [
  {
   "cell_type": "code",
   "execution_count": null,
   "metadata": {},
   "outputs": [],
   "source": [
    "from pathlib import Path\n",
    "\n",
    "import napari\n",
    "import numpy as np\n",
    "from matplotlib import pyplot as plt\n",
    "from scipy.ndimage import gaussian_filter\n",
    "from skimage.util import invert\n",
    "from skimage.io import imread\n",
    "\n",
    "from chromemt_analysis import parse_simulation_zip, fwhm2sigma"
   ]
  },
  {
   "attachments": {},
   "cell_type": "markdown",
   "metadata": {},
   "source": [
    "## Simulate experimental effects in simulation output "
   ]
  },
  {
   "cell_type": "code",
   "execution_count": null,
   "metadata": {},
   "outputs": [],
   "source": [
    "# basedir = Path('E:/chromemt_data/')\n",
    "# basedir = Path('/Volumes/davidh-ssd/chromemt_data/')\n",
    "basedir = Path('/Users/david/Desktop/chromemt_data/')\n",
    "\n",
    "# load simulated data\n",
    "psz, img_simulation = parse_simulation_zip(basedir / 'simulations/AllCVC.zip', 'InactiveCD.txt')\n",
    "img_simulation = img_simulation.astype(float)\n",
    "\n",
    "# load real data\n",
    "img_real = imread(basedir / '49801.tif')"
   ]
  },
  {
   "cell_type": "code",
   "execution_count": null,
   "metadata": {},
   "outputs": [],
   "source": [
    "# sigma zyx roughly estimated via line profiles through isolated densities in EM data\n",
    "# minimal FWHMs ~2.5px xy, ~4.5px z -> sigma of ~2.0/1.0 to\n",
    "# fwhm2sigma((4.5, 2.5, 2.5))\n",
    "\n",
    "sigma_scope_resolution = (2.0, 1.0, 1.0)\n",
    "\n",
    "# expected molecules per pixel inside structure\n",
    "expected_molecules = 0.5\n",
    "\n",
    "# expected molecules per pixel in background\n",
    "background_expected_molecules = 0.0\n",
    "\n",
    "# blur before sampling molecule pos\n",
    "sigma_diffusion = 1.0\n",
    "\n",
    "# 1) blur to simulate DAB diffusion\n",
    "img_expected_molecules = gaussian_filter(img_simulation * expected_molecules, sigma_diffusion) + background_expected_molecules\n",
    "# 2) Poisson process to simulate sparse labelling\n",
    "img_sampled_molecules = np.random.poisson(img_expected_molecules).astype(float)\n",
    "# 3) second blur to simulate microscope resolution\n",
    "img_simulation_final = gaussian_filter(img_sampled_molecules, sigma_scope_resolution)\n",
    "\n",
    "# alternative: just microscope resolution\n",
    "img_simulation_justblur = gaussian_filter(img_simulation, sigma_scope_resolution)"
   ]
  },
  {
   "cell_type": "code",
   "execution_count": null,
   "metadata": {},
   "outputs": [],
   "source": [
    "## cut slice from real data with same xy size as simulated\n",
    "\n",
    "slices = (slice(np.clip(s // 2 - c // 2, 0, s), np.clip(s // 2 + c // 2 + 1, 0, s)) for s, c in zip(img_real.shape, img_simulation.shape))\n",
    "img_real_center = img_real[tuple(slices)]\n",
    "\n",
    "img_real_center.shape, img_simulation.shape"
   ]
  },
  {
   "cell_type": "code",
   "execution_count": null,
   "metadata": {},
   "outputs": [],
   "source": [
    "fig, (axs_mask, axs_sim_justblur, axs_sim, axs_real) = plt.subplots(ncols=2, nrows=4, figsize=(15,30))\n",
    "\n",
    "mid_xy_mask = invert(img_simulation[img_simulation.shape[0]//2])\n",
    "mid_xz_mask = invert(img_simulation[:,img_simulation.shape[1]//2])\n",
    "\n",
    "mid_xy_justblur = invert(img_simulation_justblur[img_simulation_justblur.shape[0]//2])\n",
    "mid_xz_justblur = invert(img_simulation_justblur[:,img_simulation_justblur.shape[1]//2])\n",
    "\n",
    "mid_xy = invert(img_simulation_final[img_simulation_final.shape[0]//2])\n",
    "mid_xz = invert(img_simulation_final[:,img_simulation_final.shape[1]//2])\n",
    "\n",
    "mid_xy_real = img_real_center[img_real_center.shape[0]//2]\n",
    "mid_xz_real = img_real_center[:,img_real_center.shape[1]//2]\n",
    "\n",
    "axs_mask[0].imshow(mid_xy_mask, cmap='gray', clim=(mid_xy_mask.min(), mid_xy_mask.max()*1.1))\n",
    "axs_mask[0].axis('off')\n",
    "axs_mask[0].set_title('midplane XY')\n",
    "axs_mask[1].imshow(mid_xz_mask, cmap='gray', clim=(mid_xz_mask.min(), mid_xz_mask.max()*1.1))\n",
    "axs_mask[1].axis('off')\n",
    "axs_mask[1].set_title('midplane XZ')\n",
    "\n",
    "axs_sim_justblur[0].imshow(mid_xy_justblur, cmap='gray', clim=(mid_xy_justblur.min(), mid_xy_justblur.max()*1.1))\n",
    "axs_sim_justblur[0].axis('off')\n",
    "axs_sim_justblur[0].set_title('midplane XY')\n",
    "axs_sim_justblur[1].imshow(mid_xz_justblur, cmap='gray', clim=(mid_xz_justblur.min(), mid_xz_justblur.max()*1.1))\n",
    "axs_sim_justblur[1].axis('off')\n",
    "axs_sim_justblur[1].set_title('midplane XZ')\n",
    "\n",
    "axs_sim[0].imshow(mid_xy, cmap='gray', clim=(mid_xy.min(), mid_xy.max()*1.1))\n",
    "axs_sim[0].axis('off')\n",
    "axs_sim[0].set_title('midplane XY')\n",
    "axs_sim[1].imshow(mid_xz, cmap='gray', clim=(mid_xz.min(), mid_xz.max()*1.1))\n",
    "axs_sim[1].axis('off')\n",
    "axs_sim[1].set_title('midplane XZ')\n",
    "\n",
    "axs_real[0].imshow(mid_xy_real, cmap='gray')\n",
    "axs_real[0].axis('off')\n",
    "axs_real[0].set_title('midplane XY')\n",
    "axs_real[1].imshow(mid_xz_real, cmap='gray')\n",
    "axs_real[1].axis('off')\n",
    "axs_real[1].set_title('midplane XZ')\n",
    "\n",
    "plt.rc('pdf', fonttype='42')\n",
    "# plt.savefig('/Users/david/Desktop/density-figures/experimental_effects_reg415.pdf')"
   ]
  },
  {
   "cell_type": "code",
   "execution_count": null,
   "metadata": {},
   "outputs": [],
   "source": [
    "## View simulated image in napari\n",
    "\n",
    "if napari.current_viewer() is not None:\n",
    "    napari.current_viewer().close()\n",
    "\n",
    "viewer = napari.view_image(invert(img_simulation_final))"
   ]
  }
 ],
 "metadata": {
  "kernelspec": {
   "display_name": "anaconda-py39",
   "language": "python",
   "name": "python3"
  },
  "language_info": {
   "codemirror_mode": {
    "name": "ipython",
    "version": 3
   },
   "file_extension": ".py",
   "mimetype": "text/x-python",
   "name": "python",
   "nbconvert_exporter": "python",
   "pygments_lexer": "ipython3",
   "version": "3.9.15"
  },
  "orig_nbformat": 4
 },
 "nbformat": 4,
 "nbformat_minor": 2
}
