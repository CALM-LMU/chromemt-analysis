{
 "cells": [
  {
   "cell_type": "code",
   "execution_count": 1,
   "metadata": {},
   "outputs": [],
   "source": [
    "import numpy as np\n",
    "from chromemt_analysis import parse_simulation_dat, parse_simulation_zip, fwhm2sigma\n",
    "\n",
    "from skimage.util import invert"
   ]
  },
  {
   "cell_type": "markdown",
   "metadata": {},
   "source": [
    "## read old example data from uncompressed results"
   ]
  },
  {
   "cell_type": "code",
   "execution_count": null,
   "metadata": {},
   "outputs": [],
   "source": [
    "simulation_file = '/Users/david/Downloads/VoxelExample.dat'\n",
    "\n",
    "psz, arr = parse_simulation_dat(simulation_file)\n",
    "\n",
    "# to float / invert to get EM-like image\n",
    "arr = arr.astype(np.float32)\n",
    "arr = invert(arr)"
   ]
  },
  {
   "cell_type": "markdown",
   "metadata": {},
   "source": [
    "## read new simulation data from zipped results"
   ]
  },
  {
   "cell_type": "code",
   "execution_count": null,
   "metadata": {},
   "outputs": [],
   "source": [
    "zip_example = '/Users/david/Downloads/VoxelTestReg.zip'\n",
    "\n",
    "psz, arr = parse_simulation_zip(zip_example)\n",
    "\n",
    "arr = arr.astype(np.float32)\n",
    "arr = invert(arr)"
   ]
  },
  {
   "cell_type": "code",
   "execution_count": null,
   "metadata": {},
   "outputs": [],
   "source": [
    "# CVC: invert again (-> chromatin = 1), sum, divide by arr size\n",
    "invert(arr).sum() / arr.size"
   ]
  },
  {
   "cell_type": "markdown",
   "metadata": {},
   "source": [
    "## blur simulation results to match resolution of common light microscopy techniques"
   ]
  },
  {
   "cell_type": "code",
   "execution_count": null,
   "metadata": {},
   "outputs": [],
   "source": [
    "from scipy.ndimage import gaussian_filter\n",
    "\n",
    "fwhm_3d_sted = np.array([100, 100, 100]) / psz\n",
    "fwhm_sted = np.array([500, 50, 50]) / psz\n",
    "fwhm_sim = np.array([250, 125, 125]) / psz\n",
    "fwhm_conf = np.array([500, 250, 250]) / psz\n",
    "\n",
    "img_highres = gaussian_filter(arr, 0.5)\n",
    "img_3d_sted = gaussian_filter(arr, fwhm2sigma(fwhm_3d_sted))\n",
    "img_sted = gaussian_filter(arr, fwhm2sigma(fwhm_sted))\n",
    "img_sim = gaussian_filter(arr, fwhm2sigma(fwhm_sim))\n",
    "img_conf = gaussian_filter(arr, fwhm2sigma(fwhm_conf))"
   ]
  },
  {
   "cell_type": "code",
   "execution_count": null,
   "metadata": {},
   "outputs": [],
   "source": [
    "from skimage.io import imread\n",
    "from skimage.transform import rescale\n",
    "\n",
    "# image at http://www.cellimagelibrary.org/images/49801\n",
    "# pixelsize: 1.28 nm\n",
    "img_chromemet = imread('/Volumes/davidh-ssd/chromemt_data/49801.tif')\n",
    "\n",
    "# rescale to have same pixel size as simulation data\n",
    "img_chromemet_5nm = rescale(img_chromemet, 1.28 / psz)"
   ]
  },
  {
   "cell_type": "code",
   "execution_count": null,
   "metadata": {},
   "outputs": [],
   "source": [
    "# get cut from ChromEMT that has the same size as simulation box\n",
    "chromemt_offset = [500, 500]\n",
    "off_y, off_x = chromemt_offset\n",
    "img_chromemet_5nm_cut = img_chromemet_5nm[:, off_y:off_y+arr.shape[0], off_x:off_x+arr.shape[0]]\n",
    "\n",
    "chromemet_img_3d_sted = gaussian_filter(img_chromemet_5nm_cut, fwhm2sigma(fwhm_3d_sted))\n",
    "chromemet_img_sted = gaussian_filter(img_chromemet_5nm_cut, fwhm2sigma(fwhm_sted))\n",
    "chromemet_img_sim = gaussian_filter(img_chromemet_5nm_cut, fwhm2sigma(fwhm_sim))\n",
    "chromemet_img_conf = gaussian_filter(img_chromemet_5nm_cut, fwhm2sigma(fwhm_conf))"
   ]
  },
  {
   "cell_type": "code",
   "execution_count": null,
   "metadata": {},
   "outputs": [],
   "source": [
    "# view in napari\n",
    "import napari\n",
    "napari.view_image(img_highres)"
   ]
  },
  {
   "cell_type": "code",
   "execution_count": null,
   "metadata": {},
   "outputs": [],
   "source": [
    "from matplotlib import pyplot as plt\n",
    "\n",
    "def plot_comparison_midplane(img_sim, img_chromet, title='', figsize=None):\n",
    "    fig, axs = plt.subplots(ncols=2, figsize=figsize)\n",
    "\n",
    "    axs[0].imshow(img_sim[img_sim.shape[0]//2], cmap='gray')\n",
    "    axs[0].set_title('simulated')\n",
    "    axs[0].axis('off')\n",
    "    axs[1].imshow(img_chromet[img_chromet.shape[0]//2], cmap='gray')\n",
    "    axs[1].set_title('ChromEMT')\n",
    "    axs[1].axis('off')\n",
    "    \n",
    "    # fig.tight_layout()\n",
    "    fig.suptitle(title)\n",
    "\n",
    "plot_comparison_midplane(img_highres, img_chromemet_5nm_cut, 'High Resolution', figsize=(10,5))\n",
    "# plt.savefig('c:/users/david/sim_chromemt_comparison_highres.png')\n"
   ]
  },
  {
   "cell_type": "code",
   "execution_count": null,
   "metadata": {},
   "outputs": [],
   "source": [
    "plot_comparison_midplane(img_3d_sted, chromemet_img_3d_sted, '3D STED (resolution z,y,x: 100x100x100 [nm])', figsize=(10,5))\n",
    "# plt.savefig('c:/users/david/sim_chromemt_comparison_3dsted.png')"
   ]
  },
  {
   "cell_type": "code",
   "execution_count": null,
   "metadata": {},
   "outputs": [],
   "source": [
    "plot_comparison_midplane(img_sted, chromemet_img_sted, 'STED (resolution z,y,x: 500x50x50 [nm])', figsize=(10,5))\n",
    "# plt.savefig('c:/users/david/sim_chromemt_comparison_sted.png')"
   ]
  },
  {
   "cell_type": "code",
   "execution_count": null,
   "metadata": {},
   "outputs": [],
   "source": [
    "plot_comparison_midplane(img_sim, chromemet_img_sim, '3D SIM (resolution z,y,x: 250x125x125 [nm])', figsize=(10,5))\n",
    "# plt.savefig('c:/users/david/sim_chromemt_comparison_3dsim.png')"
   ]
  },
  {
   "cell_type": "code",
   "execution_count": null,
   "metadata": {},
   "outputs": [],
   "source": [
    "plot_comparison_midplane(img_conf, chromemet_img_conf, 'confocal (resolution z,y,x: 500x250x250 [nm])', figsize=(10,5))\n",
    "# plt.savefig('c:/users/david/sim_chromemt_comparison_confocal.png')"
   ]
  }
 ],
 "metadata": {
  "interpreter": {
   "hash": "463512ac65f0dfd33cb4c3fc477d0f6ed0bab12f4dc71eb694cebcc0c3badf4d"
  },
  "kernelspec": {
   "display_name": "Python 3.9.7 ('yeastmate')",
   "language": "python",
   "name": "python3"
  },
  "language_info": {
   "codemirror_mode": {
    "name": "ipython",
    "version": 3
   },
   "file_extension": ".py",
   "mimetype": "text/x-python",
   "name": "python",
   "nbconvert_exporter": "python",
   "pygments_lexer": "ipython3",
   "version": "3.9.7"
  },
  "orig_nbformat": 4
 },
 "nbformat": 4,
 "nbformat_minor": 2
}
