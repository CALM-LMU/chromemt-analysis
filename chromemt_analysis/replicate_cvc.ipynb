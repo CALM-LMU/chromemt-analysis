{
 "cells": [
  {
   "cell_type": "code",
   "execution_count": null,
   "metadata": {},
   "outputs": [],
   "source": [
    "import numpy as np\n",
    "from matplotlib import pyplot as plt\n",
    "from skimage.io import imread\n",
    "\n",
    "from chromemt_analysis import segment_like_paper, continuous_erosion, linear_fit_to_residual_volume "
   ]
  },
  {
   "cell_type": "code",
   "execution_count": null,
   "metadata": {},
   "outputs": [],
   "source": [
    "# fig. 4 EMT volume\n",
    "img = imread('/Volumes/davidh-ssd/chromemt_data/49801.tif')\n",
    "\n",
    "# rough location of first patch\n",
    "cut_siz = 94 # 94px ~ 120nm at 1.28nm pixel size\n",
    "off = 0, 140, 40\n",
    "\n",
    "cut = img[tuple((slice(o, o+cut_siz) for o in off))]"
   ]
  },
  {
   "cell_type": "code",
   "execution_count": null,
   "metadata": {},
   "outputs": [],
   "source": [
    "# test linear fit\n",
    "rv_test = np.concatenate([np.linspace(1,0.5,5),np.linspace(0.5, 0.1, 15)] ) + np.random.rayleigh(scale=0.1, size=20)\n",
    "r, mod = linear_fit_to_residual_volume(rv_test)\n",
    "\n",
    "# plot trace, fitted model line\n",
    "plt.plot(rv_test)\n",
    "plt.plot(mod.predict(np.linspace(1,0).reshape(-1,1))-1, np.linspace(1,0).reshape(-1,1))"
   ]
  },
  {
   "cell_type": "code",
   "execution_count": null,
   "metadata": {},
   "outputs": [],
   "source": [
    "mask = segment_like_paper(cut)\n",
    "erosion_radius=np.arange(1, 15)\n",
    "residual_vol = continuous_erosion(mask, erosion_radius)"
   ]
  },
  {
   "cell_type": "code",
   "execution_count": null,
   "metadata": {},
   "outputs": [],
   "source": [
    "d, mod = linear_fit_to_residual_volume(residual_vol, erosion_radius)\n",
    "\n",
    "# plot residual volume fraction\n",
    "plt.plot(erosion_radius, residual_vol)\n",
    "# plot fitted line\n",
    "plt.plot(mod.predict(np.linspace(residual_vol[0],0).reshape(-1,1)), np.linspace(residual_vol[0],0).reshape(-1,1))\n",
    "\n",
    "# diameter in nm\n",
    "d * 1.28"
   ]
  },
  {
   "cell_type": "code",
   "execution_count": null,
   "metadata": {},
   "outputs": [],
   "source": [
    "fig, axs = plt.subplots(ncols=2)\n",
    "axs[0].imshow(cut[0])\n",
    "axs[1].imshow(segment_like_paper(cut)[0])\n",
    "\n",
    "# chromatin volume fraction\n",
    "segment_like_paper(cut).sum() / np.prod(cut.shape)"
   ]
  },
  {
   "cell_type": "code",
   "execution_count": null,
   "metadata": {},
   "outputs": [],
   "source": [
    "def hypersphere(rank, radius):\n",
    "    '''\n",
    "    rank-n hypersphere, should be just like disk/ball\n",
    "    '''\n",
    "    return np.linalg.norm(np.stack(np.meshgrid(*[np.arange(-radius, radius+1)]*rank, indexing='ij')), axis=0)<=radius\n",
    "\n",
    "patch_eq = equalize_adapthist(cut, 78)\n",
    "mask = patch_eq < threshold_li(patch_eq)\n",
    "\n",
    "fig, axs = plt.subplots(ncols=3, figsize=(10,5))\n",
    "axs[0].imshow(patch_eq[0])\n",
    "axs[1].imshow(mask[0])\n",
    "axs[2].imshow(median_filter(mask[0], footprint=disk(2.5)))"
   ]
  }
 ],
 "metadata": {
  "kernelspec": {
   "display_name": "Python 3.8.8 ('anaconda-py38')",
   "language": "python",
   "name": "python3"
  },
  "language_info": {
   "codemirror_mode": {
    "name": "ipython",
    "version": 3
   },
   "file_extension": ".py",
   "mimetype": "text/x-python",
   "name": "python",
   "nbconvert_exporter": "python",
   "pygments_lexer": "ipython3",
   "version": "3.8.8"
  },
  "orig_nbformat": 4,
  "vscode": {
   "interpreter": {
    "hash": "1981902931af29edafb104b3ce08f32baefcfc2334c19d52b3f94ceb5c8ca14b"
   }
  }
 },
 "nbformat": 4,
 "nbformat_minor": 2
}
