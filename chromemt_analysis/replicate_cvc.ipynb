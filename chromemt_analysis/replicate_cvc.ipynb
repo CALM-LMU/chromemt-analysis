{
 "cells": [
  {
   "cell_type": "code",
   "execution_count": null,
   "metadata": {},
   "outputs": [],
   "source": [
    "import numpy as np\n",
    "from matplotlib import pyplot as plt\n",
    "from skimage.io import imread\n",
    "from skimage.filters import threshold_li\n",
    "from skimage.exposure import equalize_adapthist\n",
    "from skimage.morphology import remove_small_objects, disk, ball, binary_erosion\n",
    "from scipy.ndimage import median_filter\n",
    "from sklearn.linear_model import LinearRegression"
   ]
  },
  {
   "cell_type": "code",
   "execution_count": null,
   "metadata": {},
   "outputs": [],
   "source": [
    "# fig. 4 EMT volume\n",
    "img = imread('/Volumes/davidh-ssd/chromemt_data/49801.tif')\n",
    "\n",
    "# rough location of first patch\n",
    "cut_siz = 94 # 94px ~ 120nm at 1.28nm pixel size\n",
    "off = 0, 140, 40\n",
    "\n",
    "cut = img[tuple((slice(o, o+cut_siz) for o in off))]"
   ]
  },
  {
   "cell_type": "code",
   "execution_count": null,
   "metadata": {},
   "outputs": [],
   "source": [
    "def segment_like_paper(patch, clahe_size=78, min_object_size=500, radius=2):\n",
    "    '''\n",
    "    Segmentation pipeline similar to ChromEMT pipeline\n",
    "    clahe_size is in pixels, 78 ~ 100nm at 1.28nm pixel size\n",
    "    '''\n",
    "\n",
    "    # 1) CLAHE\n",
    "    patch_eq = equalize_adapthist(patch, clahe_size)\n",
    "    \n",
    "    # 2) Li thresholding\n",
    "    mask = patch_eq < threshold_li(patch_eq)\n",
    "\n",
    "    # 3) ImaheJ \"Remove Outliers...\" should correspond to median filter\n",
    "    # TODO: planewise matches ImageJ more\n",
    "    mask = median_filter(mask, footprint=ball(radius))\n",
    "\n",
    "    # 4) remove small objects should correspond to size threshold in 3D Object Counter\n",
    "    mask = remove_small_objects(mask, min_object_size)\n",
    "    return mask\n",
    "\n",
    "def continuous_erosion(mask, erosion_radius=None):\n",
    "    '''\n",
    "    Continuous erosion to estimate chromatin thickness\n",
    "\n",
    "    Parameters\n",
    "    ==========\n",
    "    mask: binary array of ndim == 3\n",
    "        the mask to erode\n",
    "    erosion_radius: iterable of floats/ints (optional)\n",
    "        radii at which to calculate residual chromatin volume after erosion\n",
    "        defaults to integer pixel radii up to half the z size of mask\n",
    "\n",
    "    Returns\n",
    "    =======\n",
    "    residual_volumes: float array with shape == (len(erosion_radius),)\n",
    "        residual volume fractions\n",
    "    '''\n",
    "\n",
    "    # default radii: integer pixels\n",
    "    if erosion_radius is None:\n",
    "        erosion_radius = np.arange(1, mask.shape[0]//2)\n",
    "\n",
    "    # TODO: slow, parallelize or iterative erosion with iterative application of small sphere\n",
    "    eroded = np.stack([binary_erosion(mask, ball(r)) for r in erosion_radius])\n",
    "\n",
    "    return eroded.sum(axis=(1,2,3)) / mask.sum()\n",
    "\n",
    "def linear_fit_to_residual_volume(residual_volume, erosion_radius=None, n_first_values_to_include=5):\n",
    "    '''\n",
    "    Fit linear model erosion_radius ~ residual volume to residual volumes\n",
    "    Returns\n",
    "    =======\n",
    "    estimated_diameter: float\n",
    "        the estimated diameter (2x erosion_radius intercept / intersection of model with x-axis)\n",
    "    model: LinearModel\n",
    "        the fitted model\n",
    "    '''\n",
    "\n",
    "    # default radii: integer pixels\n",
    "    if erosion_radius is None:\n",
    "        erosion_radius = np.arange(1, residual_volume.size+1)\n",
    "\n",
    "    residual_volume = residual_volume[:n_first_values_to_include]\n",
    "    erosion_radius = erosion_radius[:n_first_values_to_include]\n",
    "\n",
    "    lm = LinearRegression()\n",
    "    lm.fit(residual_volume.reshape(-1, 1), erosion_radius)\n",
    "    \n",
    "    return lm.intercept_ * 2, lm\n",
    "\n"
   ]
  },
  {
   "cell_type": "code",
   "execution_count": null,
   "metadata": {},
   "outputs": [],
   "source": [
    "# test linear fit\n",
    "rv_test = np.concatenate([np.linspace(1,0.5,5),np.linspace(0.5, 0.1, 15)] ) + np.random.rayleigh(scale=0.1, size=20)\n",
    "r, mod = linear_fit_to_residual_volume(rv_test)\n",
    "\n",
    "# plot trace, fitted model line\n",
    "plt.plot(rv_test)\n",
    "plt.plot(mod.predict(np.linspace(1,0).reshape(-1,1))-1, np.linspace(1,0).reshape(-1,1))"
   ]
  },
  {
   "cell_type": "code",
   "execution_count": null,
   "metadata": {},
   "outputs": [],
   "source": [
    "mask = segment_like_paper(cut)\n",
    "erosion_radius=np.arange(1, 15)\n",
    "residual_vol = continuous_erosion(mask, erosion_radius)"
   ]
  },
  {
   "cell_type": "code",
   "execution_count": null,
   "metadata": {},
   "outputs": [],
   "source": [
    "d, mod = linear_fit_to_residual_volume(residual_vol, erosion_radius)\n",
    "\n",
    "# plot residual volume fraction\n",
    "plt.plot(erosion_radius, residual_vol)\n",
    "# plot fitted line\n",
    "plt.plot(mod.predict(np.linspace(residual_vol[0],0).reshape(-1,1)), np.linspace(residual_vol[0],0).reshape(-1,1))\n",
    "\n",
    "# diameter in nm\n",
    "d * 1.28"
   ]
  },
  {
   "cell_type": "code",
   "execution_count": null,
   "metadata": {},
   "outputs": [],
   "source": [
    "fig, axs = plt.subplots(ncols=2)\n",
    "axs[0].imshow(cut[0])\n",
    "axs[1].imshow(segment_like_paper(cut)[0])\n",
    "\n",
    "# chromatin volume fraction\n",
    "segment_like_paper(cut).sum() / np.prod(cut.shape)"
   ]
  },
  {
   "cell_type": "code",
   "execution_count": null,
   "metadata": {},
   "outputs": [],
   "source": [
    "def hypersphere(rank, radius):\n",
    "    '''\n",
    "    rank-n hypersphere, should be just like disk/ball\n",
    "    '''\n",
    "    return np.linalg.norm(np.stack(np.meshgrid(*[np.arange(-radius, radius+1)]*rank, indexing='ij')), axis=0)<=radius\n",
    "\n",
    "patch_eq = equalize_adapthist(cut, 78)\n",
    "mask = patch_eq < threshold_li(patch_eq)\n",
    "\n",
    "fig, axs = plt.subplots(ncols=3, figsize=(10,5))\n",
    "axs[0].imshow(patch_eq[0])\n",
    "axs[1].imshow(mask[0])\n",
    "axs[2].imshow(median_filter(mask[0], footprint=disk(2.5)))"
   ]
  }
 ],
 "metadata": {
  "interpreter": {
   "hash": "c56d775aced456a8ab026152645841badb60c6b5ad75d89ae0164854b3484784"
  },
  "kernelspec": {
   "display_name": "Python 3.8.5 ('anaconda-py38')",
   "language": "python",
   "name": "python3"
  },
  "language_info": {
   "codemirror_mode": {
    "name": "ipython",
    "version": 3
   },
   "file_extension": ".py",
   "mimetype": "text/x-python",
   "name": "python",
   "nbconvert_exporter": "python",
   "pygments_lexer": "ipython3",
   "version": "3.8.5"
  },
  "orig_nbformat": 4
 },
 "nbformat": 4,
 "nbformat_minor": 2
}
