{
 "cells": [
  {
   "cell_type": "code",
   "execution_count": null,
   "metadata": {},
   "outputs": [],
   "source": [
    "from collections import defaultdict\n",
    "\n",
    "import pandas as pd\n",
    "import numpy as np\n",
    "from skimage.util import invert\n",
    "from skimage.io import imread, imsave\n",
    "from scipy.ndimage import gaussian_filter\n",
    "import seaborn as sns\n",
    "from matplotlib import pyplot as plt\n",
    "\n",
    "from chromemt_analysis import segment_like_paper, continuous_erosion_iterative, linear_fit_to_residual_volume, parse_simulation_zip"
   ]
  },
  {
   "cell_type": "code",
   "execution_count": null,
   "metadata": {},
   "outputs": [],
   "source": [
    "# id, zipfile, file in zipfile\n",
    "\n",
    "simulation_data = [\n",
    "    ('sim_irregular_390', '/Volumes/davidh-ssd/chromemt_data/simulations/VoxelTest.zip', None ),\n",
    "    ('sim_regular_390', '/Volumes/davidh-ssd/chromemt_data/simulations/VoxelTestReg.zip', None ),\n",
    "    ('sim_inactive_cd_415', '/Volumes/davidh-ssd/chromemt_data/simulations/voxelVersion415.zip', 'voxeltestInactiveCD.dat' ),\n",
    "    ('sim_irregular_415', '/Volumes/davidh-ssd/chromemt_data/simulations/voxelVersion415.zip', 'voxeltestIrr.dat' ),\n",
    "    ('sim_regular_415', '/Volumes/davidh-ssd/chromemt_data/simulations/voxelVersion415.zip', 'voxeltestReg.dat' )\n",
    "]\n",
    "\n",
    "# load all simulations, invert\n",
    "simulated_images = {id_: invert(parse_simulation_zip(zip_, subfile)[1].astype(np.float32)) for id_, zip_, subfile in simulation_data} "
   ]
  },
  {
   "cell_type": "code",
   "execution_count": null,
   "metadata": {},
   "outputs": [],
   "source": [
    "# save some simulated data as tiff\n",
    "imsave('/Volumes/davidh-ssd/chromemt_data/simulations/InactiveCDSim.tif', np.expand_dims(simulated_images['sim_inactive_cd_415'],1))"
   ]
  },
  {
   "cell_type": "code",
   "execution_count": null,
   "metadata": {},
   "outputs": [],
   "source": [
    "def cut_central_patches(img, patch_size=94):\n",
    "\n",
    "    n_patches = [s // patch_size for s in img.shape]\n",
    "    offset = [s % patch_size // 2 for s in img.shape]\n",
    "\n",
    "    cut_starts = np.stack(np.meshgrid(*[np.arange(off, off+n*patch_size, patch_size) for off, n in zip(offset, n_patches)], indexing='ij'), -1).reshape(-1, 3)\n",
    "    cuts = [img[tuple([slice(csi, csi+patch_size) for csi in cs])] for cs in cut_starts]\n",
    "\n",
    "    return cuts\n",
    "\n",
    "simulated_patches = {id_: cut_central_patches(img) for id_, img in simulated_images.items()}"
   ]
  },
  {
   "cell_type": "code",
   "execution_count": null,
   "metadata": {},
   "outputs": [],
   "source": [
    "pixel_size = 1.28\n",
    "tile_size_nm = 120.0\n",
    "tile_size = int( np.ceil( tile_size_nm / pixel_size ))\n",
    "\n",
    "patches_chromemt = {}\n",
    "\n",
    "chromemt_img = imread('/Volumes/davidh-ssd/chromemt_data/49801.tif')\n",
    "n_tiles = (1, 8, 8)\n",
    "tile_offsets = ((chromemt_img.shape[0] - tile_size) // 2 , 150, 50)\n",
    "\n",
    "cut_starts = np.meshgrid(*(np.arange(tile_offsets_i, tile_offsets_i + n_tiles_i * tile_size, tile_size ) for tile_offsets_i, n_tiles_i in zip(tile_offsets, n_tiles)), indexing='ij')\n",
    "cut_starts = np.stack(cut_starts, -1)\n",
    "cut_starts = cut_starts.reshape((np.prod(n_tiles), -1))\n",
    "\n",
    "patches_chromemt['real_chromemt_interphase'] = [chromemt_img[tuple(slice(c, c+tile_size) for c in cut_start)] for cut_start in cut_starts]\n",
    "\n",
    "chromemt_img = imread('/Volumes/davidh-ssd//chromemt_data/49803.tif')\n",
    "n_tiles = (1, 6, 6)\n",
    "tile_offsets = ((chromemt_img.shape[0] - tile_size) // 2 , 310, 130)\n",
    "\n",
    "cut_starts = np.meshgrid(*(np.arange(tile_offsets_i, tile_offsets_i + n_tiles_i * tile_size, tile_size ) for tile_offsets_i, n_tiles_i in zip(tile_offsets, n_tiles)), indexing='ij')\n",
    "cut_starts = np.stack(cut_starts, -1)\n",
    "cut_starts = cut_starts.reshape((np.prod(n_tiles), -1))\n",
    "\n",
    "patches_chromemt['real_chromemt_mitotic'] = [chromemt_img[tuple(slice(c, c+tile_size) for c in cut_start)] for cut_start in cut_starts]"
   ]
  },
  {
   "cell_type": "code",
   "execution_count": null,
   "metadata": {},
   "outputs": [],
   "source": [
    "sigma = 2\n",
    "res = defaultdict(list)\n",
    "\n",
    "for id_, patches in simulated_patches.items():\n",
    "    for patch in patches:\n",
    "        patch = gaussian_filter(patch, sigma)\n",
    "        mask = segment_like_paper(patch)\n",
    "        cvc = mask.sum() / mask.size\n",
    "\n",
    "        erosion_radii = np.arange(1, 11)\n",
    "        trace = continuous_erosion_iterative(mask)\n",
    "        est_diam, _ = linear_fit_to_residual_volume(trace, erosion_radii)\n",
    "\n",
    "        res['id'].append(id_)\n",
    "        res['cvc'].append(cvc)\n",
    "        res['diam'].append(est_diam)"
   ]
  },
  {
   "cell_type": "code",
   "execution_count": null,
   "metadata": {},
   "outputs": [],
   "source": [
    "for id_, patches in patches_chromemt.items():\n",
    "    for patch in patches:\n",
    "        mask = segment_like_paper(patch)\n",
    "        cvc = mask.sum() / mask.size\n",
    "\n",
    "        erosion_radii = np.arange(1, 11)\n",
    "        trace = continuous_erosion_iterative(mask)\n",
    "        est_diam, _ = linear_fit_to_residual_volume(trace, erosion_radii)\n",
    "\n",
    "        res['id'].append(id_)\n",
    "        res['cvc'].append(cvc)\n",
    "        res['diam'].append(est_diam)"
   ]
  },
  {
   "cell_type": "code",
   "execution_count": null,
   "metadata": {},
   "outputs": [],
   "source": [
    "df = pd.DataFrame.from_dict(res)\n",
    "df['diam'] *= 1.28\n",
    "df['type'] = df.id.str.split('_', 1, expand=True)[1].str.rsplit('_', 1, expand=True)[0]\n",
    "\n",
    "fig, ax = plt.subplots(figsize=(10,6))\n",
    "sns.boxplot(ax=ax, data=df, x='id', y='cvc', hue='type')\n",
    "ax.set_xticklabels(ax.get_xticklabels(),rotation=45);\n",
    "\n",
    "fig, ax = plt.subplots(figsize=(10,6))\n",
    "sns.boxplot(ax=ax, data=df, x='id', y='diam', hue='type')\n",
    "ax.set_xticklabels(ax.get_xticklabels(),rotation=45);"
   ]
  }
 ],
 "metadata": {
  "kernelspec": {
   "display_name": "Python 3.8.5 ('anaconda-py38')",
   "language": "python",
   "name": "python3"
  },
  "language_info": {
   "codemirror_mode": {
    "name": "ipython",
    "version": 3
   },
   "file_extension": ".py",
   "mimetype": "text/x-python",
   "name": "python",
   "nbconvert_exporter": "python",
   "pygments_lexer": "ipython3",
   "version": "3.8.5"
  },
  "orig_nbformat": 4,
  "vscode": {
   "interpreter": {
    "hash": "c56d775aced456a8ab026152645841badb60c6b5ad75d89ae0164854b3484784"
   }
  }
 },
 "nbformat": 4,
 "nbformat_minor": 2
}
