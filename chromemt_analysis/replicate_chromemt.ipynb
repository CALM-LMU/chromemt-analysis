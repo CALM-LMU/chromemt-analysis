{
 "cells": [
  {
   "cell_type": "code",
   "execution_count": null,
   "metadata": {},
   "outputs": [],
   "source": [
    "import numpy as np\n",
    "from skimage.util import invert\n",
    "from skimage.io import imread\n",
    "from matplotlib import pyplot as plt\n",
    "from scipy.ndimage import gaussian_filter\n",
    "\n",
    "from chromemt_analysis import parse_simulation_zip, segment_like_paper, continuous_erosion_iterative, linear_fit_to_residual_volume"
   ]
  },
  {
   "cell_type": "code",
   "execution_count": null,
   "metadata": {},
   "outputs": [],
   "source": [
    "## 1) Load ChromEMT volume from Fig. 4\n",
    "chromemt_img = imread('F:/chromemt_data/49801.tif')\n",
    "\n",
    "## Fig. 7 (mitotich chromosome)\n",
    "# chromemt_img = imread('F:/chromemt_data/49803.tif')\n",
    "\n",
    "chromemt_img.shape"
   ]
  },
  {
   "cell_type": "code",
   "execution_count": null,
   "metadata": {},
   "outputs": [],
   "source": [
    "# pixel and tile size (nm)\n",
    "pixel_size = 1.28\n",
    "tile_size_nm = 120.0\n",
    "\n",
    "## number of tiles to cut in zyx\n",
    "# Fig. 4\n",
    "n_tiles = (1, 8, 8)\n",
    "\n",
    "# Fig. 7\n",
    "# n_tiles = (1, 6, 6)\n",
    "\n",
    "# tile size in pixel (NOTE: we round up here, paper leaves it unclear how the non-integer patches were cut)\n",
    "tile_size = int( np.ceil( tile_size_nm / pixel_size ))\n",
    "\n",
    "# where to start cutting tiles\n",
    "# NOTE: no information about z in paper (we assume central to mean middle planes), yx guessed according to Fig. 4\n",
    "tile_offsets = ((chromemt_img.shape[0] - tile_size) // 2 , 150, 50)\n",
    "\n",
    "# offset for Fig. 7\n",
    "# tile_offsets = ((chromemt_img.shape[0] - tile_size) // 2 , 310, 130)\n",
    "\n",
    "cut_starts = np.meshgrid(*(np.arange(tile_offsets_i, tile_offsets_i + n_tiles_i * tile_size, tile_size ) for tile_offsets_i, n_tiles_i in zip(tile_offsets, n_tiles)), indexing='ij')\n",
    "cut_starts = np.stack(cut_starts, -1)\n",
    "cut_starts = cut_starts.reshape((np.prod(n_tiles), -1))"
   ]
  },
  {
   "cell_type": "code",
   "execution_count": null,
   "metadata": {},
   "outputs": [],
   "source": [
    "from matplotlib.patches import Rectangle\n",
    "\n",
    "## plot cuts for verification\n",
    "\n",
    "fig, ax = plt.subplots(figsize=(10,10))\n",
    "ax.imshow(chromemt_img[0], cmap='gray')\n",
    "\n",
    "for cut_start in cut_starts:\n",
    "    rec = Rectangle(cut_start[:0:-1], tile_size, tile_size, fill=None, color='red', lw=2)\n",
    "    ax.add_artist(rec)\n",
    "    ax.axis('off')"
   ]
  },
  {
   "cell_type": "code",
   "execution_count": null,
   "metadata": {},
   "outputs": [],
   "source": [
    "patches = []\n",
    "masks = []\n",
    "cvcs = []\n",
    "\n",
    "import tqdm\n",
    "from concurrent.futures import ThreadPoolExecutor\n",
    "\n",
    "## to segment whole image first and then just cut masks, use cut_from_existing_seg instead of cut_and_seg\n",
    "# mask_whole = segment_like_paper(chromemt_img)\n",
    "# def cut_from_exisitng_seg(cut_start):\n",
    "#     patch = chromemt_img[tuple(slice(c, c+tile_size) for c in cut_start)]\n",
    "#     mask = mask_whole[tuple(slice(c, c+tile_size) for c in cut_start)]\n",
    "#     return patch, mask\n",
    "\n",
    "def cut_and_seg(cut_start):\n",
    "    patch = chromemt_img[tuple(slice(c, c+tile_size) for c in cut_start)]\n",
    "    mask = segment_like_paper(patch)\n",
    "    return patch, mask\n",
    "\n",
    "futures = []\n",
    "with ThreadPoolExecutor() as tpe:\n",
    "    for cut_start in cut_starts:\n",
    "        futures.append(tpe.submit(cut_and_seg, cut_start))\n",
    "\n",
    "    for f in tqdm.tqdm(futures):\n",
    "        patch, mask = f.result()\n",
    "        cvc = mask.sum() / mask.size\n",
    "        patches.append(patch)\n",
    "        masks.append(mask)\n",
    "        cvcs.append(cvc)"
   ]
  },
  {
   "cell_type": "code",
   "execution_count": null,
   "metadata": {},
   "outputs": [],
   "source": [
    "import seaborn as sns\n",
    "\n",
    "# 'ABC...'\n",
    "alphabet = ''.join([chr(i) for i in range(ord('A'), ord('A')+26)])\n",
    "\n",
    "# CVC per tile plot, similar to paper\n",
    "sns.heatmap(np.reshape(cvcs, n_tiles).squeeze().round(2)*100, annot=True, cmap='rainbow', cbar=False, xticklabels=alphabet[:n_tiles[1]], yticklabels=range(1,n_tiles[1]), square=True)\n",
    "plt.title('Chromatin Volume Concentration (CVC)\\nper 120nm^3 tile');"
   ]
  },
  {
   "cell_type": "code",
   "execution_count": null,
   "metadata": {},
   "outputs": [],
   "source": [
    "mask_grid = np.reshape(masks, n_tiles + (tile_size,)*3).squeeze()\n",
    "\n",
    "index_str = 'D4'\n",
    "\n",
    "mask_cut = mask_grid[alphabet.index(index_str[0]), int(index_str[1])-1]\n",
    "\n",
    "erosion_radii = np.arange(1, 11)\n",
    "trace = continuous_erosion_iterative(mask_cut)\n",
    "d, model = linear_fit_to_residual_volume(trace, erosion_radii)\n",
    "d * pixel_size\n",
    "\n",
    "plt.figure(figsize=(5,4))\n",
    "plt.plot(erosion_radii, trace, '-x', label='residual volume')\n",
    "plt.plot(model.predict(np.linspace(trace[0],0).reshape(-1,1)), np.linspace(trace[0],0).reshape(-1,1), '--', label=f'fit, esitmated diameter = {np.round(d*pixel_size, 1)} nm')\n",
    "plt.title(index_str + f' (CVC={np.round(mask_cut.sum() / mask_cut.size * 100)})')\n",
    "plt.ylabel('residual volume')\n",
    "plt.xlabel('erosion iterations')\n",
    "plt.legend()"
   ]
  },
  {
   "cell_type": "code",
   "execution_count": null,
   "metadata": {},
   "outputs": [],
   "source": [
    "from skimage.io import imsave\n",
    "\n",
    "tile_grid = np.reshape(patches, n_tiles + (tile_size,)*3).squeeze()\n",
    "tile_grid.shape\n",
    "\n",
    "imsave('F:/chromemt_data/fig4_patch_a1.tif', np.expand_dims(tile_grid[0,0], 1), imagej=True)"
   ]
  }
 ],
 "metadata": {
  "kernelspec": {
   "display_name": "Python 3.8.8 ('anaconda-py38')",
   "language": "python",
   "name": "python3"
  },
  "language_info": {
   "codemirror_mode": {
    "name": "ipython",
    "version": 3
   },
   "file_extension": ".py",
   "mimetype": "text/x-python",
   "name": "python",
   "nbconvert_exporter": "python",
   "pygments_lexer": "ipython3",
   "version": "3.8.8"
  },
  "orig_nbformat": 4,
  "vscode": {
   "interpreter": {
    "hash": "1981902931af29edafb104b3ce08f32baefcfc2334c19d52b3f94ceb5c8ca14b"
   }
  }
 },
 "nbformat": 4,
 "nbformat_minor": 2
}
