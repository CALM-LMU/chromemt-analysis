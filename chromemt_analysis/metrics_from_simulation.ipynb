{
 "cells": [
  {
   "cell_type": "code",
   "execution_count": null,
   "metadata": {},
   "outputs": [],
   "source": [
    "import numpy as np\n",
    "from skimage.util import invert\n",
    "from matplotlib import pyplot as plt\n",
    "from scipy.ndimage import gaussian_filter\n",
    "\n",
    "from chromemt_analysis import parse_simulation_zip, segment_like_paper, continuous_erosion_iterative, linear_fit_to_residual_volume"
   ]
  },
  {
   "cell_type": "code",
   "execution_count": null,
   "metadata": {},
   "outputs": [],
   "source": [
    "psz, vol = parse_simulation_zip('/Users/david/Downloads/voxelVersion415.zip', 'voxeltestReg.dat')\n",
    "vol.shape"
   ]
  },
  {
   "cell_type": "code",
   "execution_count": null,
   "metadata": {},
   "outputs": [],
   "source": [
    "regular_zip = '/Users/david/Downloads/VoxelTestReg.zip'\n",
    "irregular_zip = '/Users/david/Downloads/VoxelTest.zip'\n",
    "\n",
    "psz, mask_regular = parse_simulation_zip(regular_zip)\n",
    "_, mask_irregular = parse_simulation_zip(irregular_zip)\n",
    "\n",
    "# float and invert\n",
    "mask_regular = mask_regular.astype(np.float32)\n",
    "mask_regular = invert(mask_regular)\n",
    "mask_irregular = mask_irregular.astype(np.float32)\n",
    "mask_irregular = invert(mask_irregular)"
   ]
  },
  {
   "cell_type": "code",
   "execution_count": null,
   "metadata": {},
   "outputs": [],
   "source": [
    "mask_irregular.shape"
   ]
  },
  {
   "cell_type": "code",
   "execution_count": null,
   "metadata": {},
   "outputs": [],
   "source": [
    "fig, axs = plt.subplots(ncols=2, figsize=(10,5))\n",
    "\n",
    "axs[0].imshow(mask_regular[mask_regular.shape[0]//2], cmap='gray')\n",
    "axs[0].set_title('regular')\n",
    "axs[1].imshow(mask_irregular[mask_irregular.shape[0]//2], cmap='gray')\n",
    "axs[1].set_title('irregular')\n",
    "fig.suptitle('example midplanes');"
   ]
  },
  {
   "cell_type": "code",
   "execution_count": null,
   "metadata": {},
   "outputs": [],
   "source": [
    "# CVC from raw masks\n",
    "invert(mask_regular).sum() / mask_regular.size, invert(mask_irregular).sum() / mask_irregular.size"
   ]
  },
  {
   "cell_type": "code",
   "execution_count": null,
   "metadata": {},
   "outputs": [],
   "source": [
    "# try segmentation on raw masks\n",
    "seg_noblur_regular = segment_like_paper(mask_regular)\n",
    "seg_noblur_irregular = segment_like_paper(mask_irregular)"
   ]
  },
  {
   "cell_type": "code",
   "execution_count": null,
   "metadata": {},
   "outputs": [],
   "source": [
    "# CVC from segs\n",
    "seg_noblur_regular.sum() / seg_noblur_regular.size, seg_noblur_irregular.sum() / seg_noblur_irregular.size "
   ]
  },
  {
   "cell_type": "code",
   "execution_count": null,
   "metadata": {},
   "outputs": [],
   "source": [
    "# blur simulations\n",
    "sigmas = np.arange(1, 9)\n",
    "\n",
    "blurred_regular = {s: gaussian_filter(mask_regular, s) for s in sigmas}\n",
    "blurred_irregular = {s: gaussian_filter(mask_irregular, s) for s in sigmas}"
   ]
  },
  {
   "cell_type": "code",
   "execution_count": null,
   "metadata": {},
   "outputs": [],
   "source": [
    "# segment blurs\n",
    "segmentations_regular = {s: segment_like_paper(b) for s,b in blurred_regular.items()}\n",
    "segmentations_irregular = {s: segment_like_paper(b) for s,b in blurred_irregular.items()}"
   ]
  },
  {
   "cell_type": "code",
   "execution_count": null,
   "metadata": {},
   "outputs": [],
   "source": [
    "# cvcs from blurred images\n",
    "cvcs_regular = {s: seg.sum() / seg.size for s, seg in segmentations_regular.items()}\n",
    "cvcs_irregular = {s: seg.sum() / seg.size for s, seg in segmentations_irregular.items()}\n",
    "cvcs_regular, cvcs_irregular"
   ]
  },
  {
   "cell_type": "code",
   "execution_count": null,
   "metadata": {},
   "outputs": [],
   "source": [
    "# CVC vs. blur plot\n",
    "\n",
    "plt.plot(*zip(*cvcs_regular.items()), '-x', label='regular')\n",
    "plt.plot(*zip(*cvcs_irregular.items()), '-x', label='irregular')\n",
    "plt.xlabel('blur radius (px)')\n",
    "plt.ylabel('CVC')\n",
    "plt.legend()"
   ]
  },
  {
   "cell_type": "code",
   "execution_count": null,
   "metadata": {},
   "outputs": [],
   "source": [
    "# diameter estimation on unblurred masks\n",
    "\n",
    "erosion_radii = np.arange(1, 11)\n",
    "trace_regular = continuous_erosion_iterative(invert(mask_regular.astype(bool)), n_iterations=10, connectivity=1)\n",
    "trace_irregular = continuous_erosion_iterative(invert(mask_irregular.astype(bool)), n_iterations=10, connectivity=1)\n",
    "\n",
    "d_regular, lm_regular = linear_fit_to_residual_volume(trace_regular, erosion_radii)\n",
    "d_irregular, lm_irregular = linear_fit_to_residual_volume(trace_irregular, erosion_radii)\n",
    "\n",
    "plt.plot(erosion_radii, trace_regular, '-x', label='regular, estimated diameter: {:.1f}'.format(d_regular * psz))\n",
    "plt.plot(erosion_radii, trace_irregular, '-x', label='irregular, estimated diameter: {:.1f}'.format(d_irregular * psz))\n",
    "\n",
    "plt.plot(lm_regular.predict(np.linspace(trace_regular[0],0).reshape(-1,1)), np.linspace(trace_regular[0],0).reshape(-1,1), '--', label='fit regular')\n",
    "plt.plot(lm_irregular.predict(np.linspace(trace_irregular[0],0).reshape(-1,1)), np.linspace(trace_irregular[0],0).reshape(-1,1), '--', label='fit irregular')\n",
    "\n",
    "plt.xlabel('erosion iterations')\n",
    "plt.ylabel('Residual volume')\n",
    "plt.legend()"
   ]
  },
  {
   "cell_type": "code",
   "execution_count": null,
   "metadata": {},
   "outputs": [],
   "source": [
    "# estimated diameters from blurred\n",
    "erosion_radii = np.arange(1, 21)\n",
    "\n",
    "traces_regular = {s: continuous_erosion_iterative(b, len(erosion_radii), 1) for s,b in segmentations_regular.items()}\n",
    "traces_irregular = {s: continuous_erosion_iterative(b, len(erosion_radii), 1) for s,b in segmentations_irregular.items()}\n",
    "\n",
    "diameters_regular = {s: linear_fit_to_residual_volume(t, erosion_radii)[0] * psz for s,t in traces_regular.items()}\n",
    "diameters_irregular = {s: linear_fit_to_residual_volume(t, erosion_radii)[0] * psz for s,t in traces_irregular.items()}\n",
    "\n",
    "diameters_regular, diameters_irregular"
   ]
  },
  {
   "cell_type": "code",
   "execution_count": null,
   "metadata": {},
   "outputs": [],
   "source": [
    "plt.plot(*zip(*diameters_regular.items()), '-x', label='regular')\n",
    "plt.plot(*zip(*diameters_irregular.items()), '-x', label='irregular')\n",
    "plt.xlabel('blur radius')\n",
    "plt.ylabel('estimated diameter')\n",
    "plt.legend()"
   ]
  },
  {
   "cell_type": "code",
   "execution_count": null,
   "metadata": {},
   "outputs": [],
   "source": [
    "from matplotlib.colors import hsv_to_rgb\n",
    "\n",
    "h = [0.45]\n",
    "\n",
    "for (s, tr), sv in zip(traces_regular.items(), np.linspace(0.4, 0.8, len(trace_regular))):\n",
    "    plt.plot(erosion_radii, tr, '-x', color=hsv_to_rgb(h + [sv] * 2), label='blur: {:.2f}'.format(s))\n",
    "plt.legend()\n",
    "plt.title('continuous erosion, regular')\n",
    "\n",
    "\n",
    "h = [0.85]\n",
    "\n",
    "plt.figure()\n",
    "for (s, tr), sv in zip(traces_irregular.items(), np.linspace(0.4, 0.8, len(trace_irregular))):\n",
    "    plt.plot(erosion_radii, tr, '-x', color=hsv_to_rgb(h + [sv] * 2), label='blur: {:.2f}'.format(s))\n",
    "plt.legend()\n",
    "plt.title('continuous erosion, irregular')\n"
   ]
  },
  {
   "cell_type": "code",
   "execution_count": null,
   "metadata": {},
   "outputs": [],
   "source": [
    "# plot examples, raw mask and segmentation \n",
    "\n",
    "from skimage.color import label2rgb, gray2rgb\n",
    "\n",
    "overlay_regular = label2rgb(seg_noblur_regular[seg_noblur_regular.shape[0]//2], mask_regular[mask_regular.shape[0]//2], bg_label=0)\n",
    "overlay_irregular = label2rgb(seg_noblur_irregular[seg_noblur_irregular.shape[0]//2], mask_irregular[mask_irregular.shape[0]//2], bg_label=0)\n",
    "\n",
    "fig, axs = plt.subplots(ncols=2, figsize=(12,6))\n",
    "axs[0].imshow(overlay_regular)\n",
    "axs[0].set_title('regular')\n",
    "axs[0].axis('off')\n",
    "axs[1].imshow(overlay_irregular)\n",
    "axs[1].set_title('irregular')\n",
    "axs[1].axis('off')\n",
    "fig.suptitle('example midplanes');\n",
    "fig.tight_layout()"
   ]
  },
  {
   "cell_type": "code",
   "execution_count": null,
   "metadata": {},
   "outputs": [],
   "source": [
    "fig, axs = plt.subplots(ncols=2, nrows=4, figsize=(12,30))\n",
    "for ax, (s, b), (_, m) in zip(axs.flat, blurred_regular.items(), segmentations_regular.items()):\n",
    "    overlay = label2rgb(m[m.shape[0]//2], b[b.shape[0]//2], bg_label=0)\n",
    "    ax.imshow(overlay)\n",
    "    ax.set_title('blur: {} px = {:.2f} nm'.format(s, s * psz))\n",
    "    ax.axis('off')\n",
    "fig.suptitle('example midplanes regular\\n');\n",
    "fig.tight_layout()\n",
    "\n",
    "\n",
    "fig, axs = plt.subplots(ncols=2, nrows=4, figsize=(12,30))\n",
    "for ax, (s, b), (_, m) in zip(axs.flat, blurred_irregular.items(), segmentations_irregular.items()):\n",
    "    overlay = label2rgb(m[m.shape[0]//2], b[b.shape[0]//2], bg_label=0)\n",
    "    ax.imshow(overlay)\n",
    "    ax.set_title('blur: {} px = {:.2f} nm'.format(s, s * psz))\n",
    "    ax.axis('off')\n",
    "fig.suptitle('example midplanes irregular\\n');\n",
    "fig.tight_layout()\n"
   ]
  }
 ],
 "metadata": {
  "kernelspec": {
   "display_name": "Python 3.8.8 ('anaconda-py38')",
   "language": "python",
   "name": "python3"
  },
  "language_info": {
   "codemirror_mode": {
    "name": "ipython",
    "version": 3
   },
   "file_extension": ".py",
   "mimetype": "text/x-python",
   "name": "python",
   "nbconvert_exporter": "python",
   "pygments_lexer": "ipython3",
   "version": "3.8.8"
  },
  "orig_nbformat": 4,
  "vscode": {
   "interpreter": {
    "hash": "1981902931af29edafb104b3ce08f32baefcfc2334c19d52b3f94ceb5c8ca14b"
   }
  }
 },
 "nbformat": 4,
 "nbformat_minor": 2
}
